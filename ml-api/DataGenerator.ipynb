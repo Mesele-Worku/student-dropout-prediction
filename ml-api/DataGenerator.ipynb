{
 "cells": [
  {
   "cell_type": "code",
   "execution_count": 2,
   "id": "cee7f536",
   "metadata": {},
   "outputs": [],
   "source": [
    "import pandas as pd\n",
    "import numpy as np\n",
    "\n",
    "# Set random seed for reproducibility\n",
    "np.random.seed(42)\n",
    "\n",
    "# Generate non-dropouts (500)\n",
    "non_dropouts = pd.DataFrame({\n",
    "    'student_id': [f\"S{i:03d}_D0\" for i in range(1, 501)],\n",
    "    'lecture_watch_pct': np.clip(np.random.normal(85, 10, 500), 70, 100).astype(int),\n",
    "    'checklist_pct': np.clip(np.random.normal(80, 12, 500), 65, 100).astype(int),\n",
    "    'attended_live_class': np.random.binomial(1, 0.78, 500),\n",
    "    'attended_group_discussion': np.random.binomial(1, 0.72, 500),\n",
    "    'qa_participation_pct': np.clip(np.random.normal(75, 15, 500), 50, 100).astype(int),\n",
    "    'dropout': 0\n",
    "})\n",
    "\n",
    "# Generate dropouts (500)\n",
    "dropouts = pd.DataFrame({\n",
    "    'student_id': [f\"S{i:03d}_D1\" for i in range(1, 501)],\n",
    "    'lecture_watch_pct': np.clip(np.random.normal(50, 15, 500), 20, 70).astype(int),\n",
    "    'checklist_pct': np.clip(np.random.normal(45, 12, 500), 15, 65).astype(int),\n",
    "    'attended_live_class': np.random.binomial(1, 0.42, 500),\n",
    "    'attended_group_discussion': np.random.binomial(1, 0.38, 500),\n",
    "    'qa_participation_pct': np.clip(np.random.normal(35, 12, 500), 5, 60).astype(int),\n",
    "    'dropout': 1\n",
    "})\n",
    "\n",
    "# Combine and shuffle\n",
    "df = pd.concat([non_dropouts, dropouts]).sample(frac=1, random_state=42).reset_index(drop=True)\n",
    "\n",
    "# Generate recommendations (same logic as before)\n",
    "def generate_recommendations(row):\n",
    "    recs = []\n",
    "    if row['lecture_watch_pct'] < 70:\n",
    "        recs.append(\"Increase your lecture video completion to at least 80% to strengthen understanding.\")\n",
    "    if row['checklist_pct'] < 70:\n",
    "        recs.append(\"Make sure to complete all checklist items to stay on track.\")\n",
    "    if row['attended_live_class'] == 0:\n",
    "        recs.append(\"Attend live classes to get real-time support and stay engaged.\")\n",
    "    if row['attended_group_discussion'] == 0:\n",
    "        recs.append(\"Join group discussions to improve collaboration and communication skills.\")\n",
    "    if row['qa_participation_pct'] < 60:\n",
    "        recs.append(\"Participate more in Q&A to clarify doubts and boost retention.\")\n",
    "    return \";\".join(recs) if recs else \"Good Job, You did Well in the Week. Keep the momentum\"\n",
    "\n",
    "df['recommended_activities'] = df.apply(generate_recommendations, axis=1)\n",
    "\n",
    "# Save to CSV\n",
    "df.to_csv(\"balanced_student_dataset.csv\", index=False)"
   ]
  }
 ],
 "metadata": {
  "kernelspec": {
   "display_name": "Python 3",
   "language": "python",
   "name": "python3"
  },
  "language_info": {
   "codemirror_mode": {
    "name": "ipython",
    "version": 3
   },
   "file_extension": ".py",
   "mimetype": "text/x-python",
   "name": "python",
   "nbconvert_exporter": "python",
   "pygments_lexer": "ipython3",
   "version": "3.13.5"
  }
 },
 "nbformat": 4,
 "nbformat_minor": 5
}
